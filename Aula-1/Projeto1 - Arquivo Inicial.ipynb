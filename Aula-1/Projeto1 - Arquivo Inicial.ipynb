{
 "cells": [
  {
   "cell_type": "markdown",
   "metadata": {},
   "source": [
    "# Análise de dados com Python\n",
    "\n",
    "## Desafio\n",
    "\n",
    "Para controle de custos, todos os dias, seu chefe pede um relatório com todas as compras de mercadorias da empresa.\n",
    "O seu trabalho, como analista, é enviar um e-mail para ele, assim que começar a trabalhar, com o total gasto, a quantidade de produtos compradas e o preço médio dos produtos.\n",
    "\n",
    "E-mail do seu chefe: para o nosso exercício, coloque um e-mail seu como sendo o e-mail do seu chefe<br>\n",
    "Link de acesso ao sistema da empresa: https://pages.hashtagtreinamentos.com/aula1-intensivao-sistema\n",
    "\n",
    "Para resolver isso, vamos usar o pyautogui, uma biblioteca de automação de comandos do mouse e do teclado"
   ]
  },
  {
   "cell_type": "markdown",
   "metadata": {},
   "source": [
    "### Aula 1 - Passos:\n",
    "\n",
    "* Passo 1: Acessar o sistema da empresa;\n",
    "* Passo 2: Login no sistema;\n",
    "* Passo 3: Baixar dados;\n",
    "* Passo 4: Calcular os indicadores;\n",
    "* Passo 5: Enviar e-mail com o relatório;"
   ]
  },
  {
   "cell_type": "markdown",
   "metadata": {},
   "source": [
    "## Bibiotecas"
   ]
  },
  {
   "cell_type": "code",
   "execution_count": 1,
   "metadata": {},
   "outputs": [],
   "source": [
    "import pyautogui as py\n",
    "import time\n",
    "import pandas as pd\n",
    "import openpyxl\n",
    "import numpy as np"
   ]
  },
  {
   "cell_type": "code",
   "execution_count": 3,
   "metadata": {},
   "outputs": [],
   "source": [
    "### Passo 1: Acessar o sistema da empresa;\n",
    "\n",
    "py.PAUSE = 1 # definindo uma pausa entre os comandos\n",
    "py.hotkey('ctrl', 't') # abrir uma nova aba no navegador\n",
    "py.write('https://pages.hashtagtreinamentos.com/aula1-intensivao-sistema') # informando o endereço do site\n",
    "py.press('enter') # confirmando a entrada para acessar a página da empresa\n",
    "time.sleep(5) # tempo para carregar a página\n",
    "\n",
    "\n",
    "### Passo 2: Login no sistema;\n",
    "\n",
    "# print(py.position()) # posicionar o mouse sobre o campo de login para descobrir o valor de x e y\n",
    "py.click(x=577, y=390) # posição do campo login\n",
    "py.write('meu login') # escrevendo o nome de usuário\n",
    "\n",
    "py.click(x=610, y=473) # posição do campo senha\n",
    "py.write('minha senha') # escrevendo a senha do usuário\n",
    "\n",
    "py.click(x=644, y=534) # clicando no botão de login\n",
    "py.write('minha senha')\n",
    "\n",
    "time.sleep(10) # tempo para carregar a página\n",
    "\n",
    "\n",
    "### Passo 2: Login no sistema;\n",
    "\n",
    "py.click(x=369, y=352) # clicando no arquivo para download\n",
    "time.sleep(3)\n",
    "py.click(x=505, y=211) # clicando no botão de download"
   ]
  },
  {
   "cell_type": "code",
   "execution_count": 6,
   "metadata": {},
   "outputs": [
    {
     "data": {
      "text/html": [
       "<div>\n",
       "<style scoped>\n",
       "    .dataframe tbody tr th:only-of-type {\n",
       "        vertical-align: middle;\n",
       "    }\n",
       "\n",
       "    .dataframe tbody tr th {\n",
       "        vertical-align: top;\n",
       "    }\n",
       "\n",
       "    .dataframe thead th {\n",
       "        text-align: right;\n",
       "    }\n",
       "</style>\n",
       "<table border=\"1\" class=\"dataframe\">\n",
       "  <thead>\n",
       "    <tr style=\"text-align: right;\">\n",
       "      <th></th>\n",
       "      <th>CódigoCompra</th>\n",
       "      <th>Data</th>\n",
       "      <th>Fornecedor</th>\n",
       "      <th>Produto</th>\n",
       "      <th>Quantidade</th>\n",
       "      <th>ValorUnitário</th>\n",
       "      <th>ValorFinal</th>\n",
       "    </tr>\n",
       "  </thead>\n",
       "  <tbody>\n",
       "    <tr>\n",
       "      <th>0</th>\n",
       "      <td>65014</td>\n",
       "      <td>01/12/2023</td>\n",
       "      <td>Fabrica Hashtag Brasil</td>\n",
       "      <td>Óleo Motor - Linha A</td>\n",
       "      <td>5</td>\n",
       "      <td>259.00</td>\n",
       "      <td>1295.00</td>\n",
       "    </tr>\n",
       "    <tr>\n",
       "      <th>1</th>\n",
       "      <td>65014</td>\n",
       "      <td>01/12/2023</td>\n",
       "      <td>Fabrica Hashtag Brasil</td>\n",
       "      <td>Kit Embreagem - Linha A</td>\n",
       "      <td>1</td>\n",
       "      <td>380.00</td>\n",
       "      <td>380.00</td>\n",
       "    </tr>\n",
       "    <tr>\n",
       "      <th>2</th>\n",
       "      <td>65016</td>\n",
       "      <td>01/12/2023</td>\n",
       "      <td>Fabrica Doidona Brasil</td>\n",
       "      <td>Bateria - Linha A</td>\n",
       "      <td>2</td>\n",
       "      <td>479.00</td>\n",
       "      <td>958.00</td>\n",
       "    </tr>\n",
       "    <tr>\n",
       "      <th>3</th>\n",
       "      <td>65016</td>\n",
       "      <td>01/12/2023</td>\n",
       "      <td>Fabrica Doidona Brasil</td>\n",
       "      <td>Filtro de Óleo - Linha A</td>\n",
       "      <td>1</td>\n",
       "      <td>18.90</td>\n",
       "      <td>18.90</td>\n",
       "    </tr>\n",
       "    <tr>\n",
       "      <th>4</th>\n",
       "      <td>65017</td>\n",
       "      <td>01/12/2023</td>\n",
       "      <td>Original Fábrica Brasil</td>\n",
       "      <td>Farol Principal - Linha A</td>\n",
       "      <td>3</td>\n",
       "      <td>159.90</td>\n",
       "      <td>479.70</td>\n",
       "    </tr>\n",
       "    <tr>\n",
       "      <th>...</th>\n",
       "      <td>...</td>\n",
       "      <td>...</td>\n",
       "      <td>...</td>\n",
       "      <td>...</td>\n",
       "      <td>...</td>\n",
       "      <td>...</td>\n",
       "      <td>...</td>\n",
       "    </tr>\n",
       "    <tr>\n",
       "      <th>4538</th>\n",
       "      <td>69996</td>\n",
       "      <td>26/12/2023</td>\n",
       "      <td>Revenda Argentina</td>\n",
       "      <td>Logo Hashtag - Linha A</td>\n",
       "      <td>2</td>\n",
       "      <td>10.00</td>\n",
       "      <td>20.00</td>\n",
       "    </tr>\n",
       "    <tr>\n",
       "      <th>4539</th>\n",
       "      <td>69996</td>\n",
       "      <td>26/12/2023</td>\n",
       "      <td>Revenda Argentina</td>\n",
       "      <td>Terminal de Direção - Linha B</td>\n",
       "      <td>4</td>\n",
       "      <td>156.40</td>\n",
       "      <td>625.60</td>\n",
       "    </tr>\n",
       "    <tr>\n",
       "      <th>4540</th>\n",
       "      <td>69996</td>\n",
       "      <td>26/12/2023</td>\n",
       "      <td>Revenda Argentina</td>\n",
       "      <td>Farol Principal - Linha B</td>\n",
       "      <td>1</td>\n",
       "      <td>183.89</td>\n",
       "      <td>183.89</td>\n",
       "    </tr>\n",
       "    <tr>\n",
       "      <th>4541</th>\n",
       "      <td>69997</td>\n",
       "      <td>26/12/2023</td>\n",
       "      <td>Fabrica Doidona Mexico</td>\n",
       "      <td>Pneus - Linha A</td>\n",
       "      <td>1</td>\n",
       "      <td>359.91</td>\n",
       "      <td>359.91</td>\n",
       "    </tr>\n",
       "    <tr>\n",
       "      <th>4542</th>\n",
       "      <td>69997</td>\n",
       "      <td>26/12/2023</td>\n",
       "      <td>Fabrica Doidona Mexico</td>\n",
       "      <td>Kit Embreagem - Linha C</td>\n",
       "      <td>2</td>\n",
       "      <td>502.55</td>\n",
       "      <td>1005.10</td>\n",
       "    </tr>\n",
       "  </tbody>\n",
       "</table>\n",
       "<p>4543 rows × 7 columns</p>\n",
       "</div>"
      ],
      "text/plain": [
       "      CódigoCompra        Data               Fornecedor  \\\n",
       "0            65014  01/12/2023   Fabrica Hashtag Brasil   \n",
       "1            65014  01/12/2023   Fabrica Hashtag Brasil   \n",
       "2            65016  01/12/2023   Fabrica Doidona Brasil   \n",
       "3            65016  01/12/2023   Fabrica Doidona Brasil   \n",
       "4            65017  01/12/2023  Original Fábrica Brasil   \n",
       "...            ...         ...                      ...   \n",
       "4538         69996  26/12/2023        Revenda Argentina   \n",
       "4539         69996  26/12/2023        Revenda Argentina   \n",
       "4540         69996  26/12/2023        Revenda Argentina   \n",
       "4541         69997  26/12/2023   Fabrica Doidona Mexico   \n",
       "4542         69997  26/12/2023   Fabrica Doidona Mexico   \n",
       "\n",
       "                            Produto  Quantidade  ValorUnitário  ValorFinal  \n",
       "0              Óleo Motor - Linha A           5         259.00     1295.00  \n",
       "1           Kit Embreagem - Linha A           1         380.00      380.00  \n",
       "2                 Bateria - Linha A           2         479.00      958.00  \n",
       "3          Filtro de Óleo - Linha A           1          18.90       18.90  \n",
       "4         Farol Principal - Linha A           3         159.90      479.70  \n",
       "...                             ...         ...            ...         ...  \n",
       "4538         Logo Hashtag - Linha A           2          10.00       20.00  \n",
       "4539  Terminal de Direção - Linha B           4         156.40      625.60  \n",
       "4540      Farol Principal - Linha B           1         183.89      183.89  \n",
       "4541                Pneus - Linha A           1         359.91      359.91  \n",
       "4542        Kit Embreagem - Linha C           2         502.55     1005.10  \n",
       "\n",
       "[4543 rows x 7 columns]"
      ]
     },
     "metadata": {},
     "output_type": "display_data"
    }
   ],
   "source": [
    "### Passo 4: Calcular os indicadores;\n",
    "\n",
    "# carregar a base de dados\n",
    "tabela = pd.read_csv(\"compras.csv\", sep=';')\n",
    "display(tabela)"
   ]
  },
  {
   "cell_type": "code",
   "execution_count": null,
   "metadata": {},
   "outputs": [],
   "source": []
  },
  {
   "cell_type": "code",
   "execution_count": null,
   "metadata": {},
   "outputs": [],
   "source": []
  },
  {
   "cell_type": "code",
   "execution_count": null,
   "metadata": {},
   "outputs": [],
   "source": [
    "tabela = pd.read_csv(\"clientes.csv\", sep=';', encoding='latin-1')"
   ]
  },
  {
   "cell_type": "code",
   "execution_count": null,
   "metadata": {
    "scrolled": true
   },
   "outputs": [],
   "source": [
    "display(tabela)"
   ]
  },
  {
   "cell_type": "code",
   "execution_count": null,
   "metadata": {},
   "outputs": [],
   "source": [
    "# Apagar a última coluna que não trás nenhuma informação\n",
    "\n",
    "tabela = tabela.drop('Unnamed: 8', axis=1)\n",
    "display(tabela)"
   ]
  },
  {
   "cell_type": "code",
   "execution_count": null,
   "metadata": {},
   "outputs": [],
   "source": [
    "print(tabela.info())"
   ]
  },
  {
   "cell_type": "code",
   "execution_count": null,
   "metadata": {},
   "outputs": [],
   "source": [
    "# Tratamento de erros\n",
    "tabela[\"Salário Anual (R$)\"] = pd.to_numeric(tabela[\"Salário Anual (R$)\"], errors=\"coerce\") # o parâmetro 'coerce' força o erro para número     "
   ]
  },
  {
   "cell_type": "code",
   "execution_count": null,
   "metadata": {},
   "outputs": [],
   "source": [
    "print(tabela.info())"
   ]
  },
  {
   "cell_type": "code",
   "execution_count": null,
   "metadata": {},
   "outputs": [],
   "source": [
    "# Valores vazios\n",
    "tabela = tabela.dropna()\n",
    "tabela.info()"
   ]
  },
  {
   "cell_type": "code",
   "execution_count": null,
   "metadata": {},
   "outputs": [],
   "source": [
    "# Passo 4: Análise inicial\n",
    "tabela.describe().round(2).T"
   ]
  },
  {
   "cell_type": "code",
   "execution_count": null,
   "metadata": {},
   "outputs": [],
   "source": [
    "# -02:06:00"
   ]
  },
  {
   "cell_type": "markdown",
   "metadata": {},
   "source": [
    "### Passos:\n",
    "\n",
    "* Passo 1: Importar a base de dados;\n",
    "* Passo 2: Visualizar os dados;\n",
    "* Passo 3: Tratamento dos dados;\n",
    "* Passo 4: Analise inicial - entender como estão as notas dos clientes;\n",
    "* Passo 5: Analise completa - traçar o perfil ideal de cliente / entender cada característica do cliente que impacta na sua nota"
   ]
  },
  {
   "cell_type": "code",
   "execution_count": null,
   "metadata": {},
   "outputs": [],
   "source": []
  }
 ],
 "metadata": {
  "kernelspec": {
   "display_name": "Python 3",
   "language": "python",
   "name": "python3"
  },
  "language_info": {
   "codemirror_mode": {
    "name": "ipython",
    "version": 3
   },
   "file_extension": ".py",
   "mimetype": "text/x-python",
   "name": "python",
   "nbconvert_exporter": "python",
   "pygments_lexer": "ipython3",
   "version": "3.8.3"
  }
 },
 "nbformat": 4,
 "nbformat_minor": 4
}
