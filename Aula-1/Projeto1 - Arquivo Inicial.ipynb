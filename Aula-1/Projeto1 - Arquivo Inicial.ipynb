{
 "cells": [
  {
   "cell_type": "markdown",
   "metadata": {},
   "source": [
    "# Análise de dados com Python\n",
    "\n",
    "## Desafio\n",
    "\n",
    "Para controle de custos, todos os dias, seu chefe pede um relatório com todas as compras de mercadorias da empresa.\n",
    "O seu trabalho, como analista, é enviar um e-mail para ele, assim que começar a trabalhar, com o total gasto, a quantidade de produtos compradas e o preço médio dos produtos.\n",
    "\n",
    "E-mail do seu chefe: para o nosso exercício, coloque um e-mail seu como sendo o e-mail do seu chefe<br>\n",
    "Link de acesso ao sistema da empresa: https://pages.hashtagtreinamentos.com/aula1-intensivao-sistema\n",
    "\n",
    "Para resolver isso, vamos usar o pyautogui, uma biblioteca de automação de comandos do mouse e do teclado"
   ]
  },
  {
   "cell_type": "markdown",
   "metadata": {},
   "source": [
    "### Aula 1 - Passos:\n",
    "\n",
    "* Passo 1: Acessar o sistema da empresa;\n",
    "* Passo 2: Login no sistema;\n",
    "* Passo 3: Baixar dados;\n",
    "* Passo 4: Calcular os indicadores;\n",
    "* Passo 5: Enviar e-mail com o relatório;"
   ]
  },
  {
   "cell_type": "markdown",
   "metadata": {},
   "source": [
    "## Bibiotecas"
   ]
  },
  {
   "cell_type": "code",
   "execution_count": 1,
   "metadata": {},
   "outputs": [],
   "source": [
    "import pyautogui as py\n",
    "import time\n",
    "import pandas as pd\n",
    "import openpyxl\n",
    "import numpy as np"
   ]
  },
  {
   "cell_type": "code",
   "execution_count": 3,
   "metadata": {},
   "outputs": [],
   "source": [
    "### Passo 1: Acessar o sistema da empresa;\n",
    "\n",
    "py.PAUSE = 1 # definindo uma pausa entre os comandos\n",
    "py.hotkey('ctrl', 't') # abrir uma nova aba no navegador\n",
    "py.write('https://pages.hashtagtreinamentos.com/aula1-intensivao-sistema') # informando o endereço do site\n",
    "py.press('enter') # confirmando a entrada para acessar a página da empresa\n",
    "time.sleep(5) # tempo para carregar a página\n",
    "\n",
    "\n",
    "### Passo 2: Login no sistema;\n",
    "\n",
    "# print(py.position()) # posicionar o mouse sobre o campo de login para descobrir o valor de x e y\n",
    "py.click(x=577, y=390) # posição do campo login\n",
    "py.write('meu login') # escrevendo o nome de usuário\n",
    "\n",
    "py.click(x=610, y=473) # posição do campo senha\n",
    "py.write('minha senha') # escrevendo a senha do usuário\n",
    "\n",
    "py.click(x=644, y=534) # clicando no botão de login\n",
    "py.write('minha senha')\n",
    "\n",
    "time.sleep(10) # tempo para carregar a página\n",
    "\n",
    "\n",
    "### Passo 2: Login no sistema;\n",
    "\n",
    "py.click(x=369, y=352) # clicando no arquivo para download\n",
    "time.sleep(3)\n",
    "py.click(x=505, y=211) # clicando no botão de download"
   ]
  },
  {
   "cell_type": "code",
   "execution_count": 8,
   "metadata": {},
   "outputs": [
    {
     "name": "stdout",
     "output_type": "stream",
     "text": [
      "7254196.58\n",
      "9715\n",
      "746.7006258363356\n"
     ]
    }
   ],
   "source": [
    "### Passo 4: Calcular os indicadores;\n",
    "\n",
    "# carregar a base de dados\n",
    "tabela = pd.read_csv(\"compras.csv\", sep=';')\n",
    "\n",
    "# Cálculo dos indicadores\n",
    "# total gasto -> somar a coluna valor final\n",
    "total_gasto = tabela['ValorFinal'].sum()\n",
    "\n",
    "# total gasto -> somar a coluna valor final\n",
    "quantidade = tabela['Quantidade'].sum()\n",
    "\n",
    "# total gasto -> somar a coluna valor final\n",
    "preco_medio = total_gasto / quantidade"
   ]
  },
  {
   "cell_type": "code",
   "execution_count": null,
   "metadata": {},
   "outputs": [],
   "source": []
  },
  {
   "cell_type": "code",
   "execution_count": null,
   "metadata": {},
   "outputs": [],
   "source": []
  },
  {
   "cell_type": "code",
   "execution_count": null,
   "metadata": {},
   "outputs": [],
   "source": [
    "tabela = pd.read_csv(\"clientes.csv\", sep=';', encoding='latin-1')"
   ]
  },
  {
   "cell_type": "code",
   "execution_count": null,
   "metadata": {
    "scrolled": true
   },
   "outputs": [],
   "source": [
    "display(tabela)"
   ]
  },
  {
   "cell_type": "code",
   "execution_count": null,
   "metadata": {},
   "outputs": [],
   "source": [
    "# Apagar a última coluna que não trás nenhuma informação\n",
    "\n",
    "tabela = tabela.drop('Unnamed: 8', axis=1)\n",
    "display(tabela)"
   ]
  },
  {
   "cell_type": "code",
   "execution_count": null,
   "metadata": {},
   "outputs": [],
   "source": [
    "print(tabela.info())"
   ]
  },
  {
   "cell_type": "code",
   "execution_count": null,
   "metadata": {},
   "outputs": [],
   "source": [
    "# Tratamento de erros\n",
    "tabela[\"Salário Anual (R$)\"] = pd.to_numeric(tabela[\"Salário Anual (R$)\"], errors=\"coerce\") # o parâmetro 'coerce' força o erro para número     "
   ]
  },
  {
   "cell_type": "code",
   "execution_count": null,
   "metadata": {},
   "outputs": [],
   "source": [
    "print(tabela.info())"
   ]
  },
  {
   "cell_type": "code",
   "execution_count": null,
   "metadata": {},
   "outputs": [],
   "source": [
    "# Valores vazios\n",
    "tabela = tabela.dropna()\n",
    "tabela.info()"
   ]
  },
  {
   "cell_type": "code",
   "execution_count": null,
   "metadata": {},
   "outputs": [],
   "source": [
    "# Passo 4: Análise inicial\n",
    "tabela.describe().round(2).T"
   ]
  },
  {
   "cell_type": "code",
   "execution_count": null,
   "metadata": {},
   "outputs": [],
   "source": [
    "# -02:06:00"
   ]
  },
  {
   "cell_type": "markdown",
   "metadata": {},
   "source": [
    "### Passos:\n",
    "\n",
    "* Passo 1: Importar a base de dados;\n",
    "* Passo 2: Visualizar os dados;\n",
    "* Passo 3: Tratamento dos dados;\n",
    "* Passo 4: Analise inicial - entender como estão as notas dos clientes;\n",
    "* Passo 5: Analise completa - traçar o perfil ideal de cliente / entender cada característica do cliente que impacta na sua nota"
   ]
  },
  {
   "cell_type": "code",
   "execution_count": null,
   "metadata": {},
   "outputs": [],
   "source": []
  }
 ],
 "metadata": {
  "kernelspec": {
   "display_name": "Python 3",
   "language": "python",
   "name": "python3"
  },
  "language_info": {
   "codemirror_mode": {
    "name": "ipython",
    "version": 3
   },
   "file_extension": ".py",
   "mimetype": "text/x-python",
   "name": "python",
   "nbconvert_exporter": "python",
   "pygments_lexer": "ipython3",
   "version": "3.8.3"
  }
 },
 "nbformat": 4,
 "nbformat_minor": 4
}
