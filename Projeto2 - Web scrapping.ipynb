{
 "cells": [
  {
   "cell_type": "markdown",
   "metadata": {},
   "source": [
    "# Automação Web e Busca de Informações com Python\n",
    "\n",
    "### Desafio:\n",
    "\n",
    "* Soja, Milho, Trigo, Petróleo, etc.<br><br>\n",
    "\n",
    "Precisamos pegar na internet, de forma automática, a cotação de todas as commodities e ver se ea está abaixo do nosso preço ideal de compra. Se tiver, precisamos marcar com uma ação de compra para a equipe de operações <br><br>\n",
    "\n",
    "Base de dados: <br><br>\n",
    "\n",
    "Para isso, vamos criar uma automação web:<br>\n",
    "\n",
    "* Usaremos o selenium;<br>\n",
    "* Importante: baixar o webdriver;"
   ]
  },
  {
   "cell_type": "markdown",
   "metadata": {},
   "source": [
    "## passo a passo:<br>\n",
    "\n",
    "#### 1º) Conectar a fonte de dados;\n",
    "#### 2º) Baixar os dados;\n",
    "#### 3º) Pegar o preço atual de cada produto da nossa base;\n",
    "#### 4º) Atualizar o preço atual na base de dados;\n",
    "#### 5º) Criar algritmo que indicará se o rpeço atual é menor/maior que o preço cadastrado;\n",
    "#### 6º) Exporar a base de dados atualizada;"
   ]
  },
  {
   "cell_type": "markdown",
   "metadata": {},
   "source": [
    "## Bibliotecas"
   ]
  },
  {
   "cell_type": "code",
   "execution_count": 10,
   "metadata": {},
   "outputs": [],
   "source": [
    "import pandas                    as pd\n",
    "from selenium import webdriver"
   ]
  },
  {
   "cell_type": "code",
   "execution_count": 11,
   "metadata": {},
   "outputs": [],
   "source": [
    "# criando um navegador\n",
    "navegador = webdriver.Chrome()\n",
    "navegador.get('https://www.google.com/')"
   ]
  },
  {
   "cell_type": "code",
   "execution_count": 12,
   "metadata": {},
   "outputs": [
    {
     "data": {
      "text/html": [
       "<div>\n",
       "<style scoped>\n",
       "    .dataframe tbody tr th:only-of-type {\n",
       "        vertical-align: middle;\n",
       "    }\n",
       "\n",
       "    .dataframe tbody tr th {\n",
       "        vertical-align: top;\n",
       "    }\n",
       "\n",
       "    .dataframe thead th {\n",
       "        text-align: right;\n",
       "    }\n",
       "</style>\n",
       "<table border=\"1\" class=\"dataframe\">\n",
       "  <thead>\n",
       "    <tr style=\"text-align: right;\">\n",
       "      <th></th>\n",
       "      <th>Produto</th>\n",
       "      <th>Preço Ideal</th>\n",
       "      <th>Preço Atual</th>\n",
       "      <th>Comprar</th>\n",
       "    </tr>\n",
       "  </thead>\n",
       "  <tbody>\n",
       "    <tr>\n",
       "      <th>0</th>\n",
       "      <td>Milho</td>\n",
       "      <td>85.32</td>\n",
       "      <td>NaN</td>\n",
       "      <td>NaN</td>\n",
       "    </tr>\n",
       "    <tr>\n",
       "      <th>1</th>\n",
       "      <td>Soja</td>\n",
       "      <td>163.59</td>\n",
       "      <td>NaN</td>\n",
       "      <td>NaN</td>\n",
       "    </tr>\n",
       "    <tr>\n",
       "      <th>2</th>\n",
       "      <td>Boi</td>\n",
       "      <td>282.20</td>\n",
       "      <td>NaN</td>\n",
       "      <td>NaN</td>\n",
       "    </tr>\n",
       "    <tr>\n",
       "      <th>3</th>\n",
       "      <td>Petróleo</td>\n",
       "      <td>424.37</td>\n",
       "      <td>NaN</td>\n",
       "      <td>NaN</td>\n",
       "    </tr>\n",
       "    <tr>\n",
       "      <th>4</th>\n",
       "      <td>Algodão</td>\n",
       "      <td>497.76</td>\n",
       "      <td>NaN</td>\n",
       "      <td>NaN</td>\n",
       "    </tr>\n",
       "    <tr>\n",
       "      <th>5</th>\n",
       "      <td>Açúcar</td>\n",
       "      <td>136.23</td>\n",
       "      <td>NaN</td>\n",
       "      <td>NaN</td>\n",
       "    </tr>\n",
       "    <tr>\n",
       "      <th>6</th>\n",
       "      <td>Café</td>\n",
       "      <td>1092.87</td>\n",
       "      <td>NaN</td>\n",
       "      <td>NaN</td>\n",
       "    </tr>\n",
       "    <tr>\n",
       "      <th>7</th>\n",
       "      <td>Ouro</td>\n",
       "      <td>321.77</td>\n",
       "      <td>NaN</td>\n",
       "      <td>NaN</td>\n",
       "    </tr>\n",
       "    <tr>\n",
       "      <th>8</th>\n",
       "      <td>Trigo</td>\n",
       "      <td>1549.11</td>\n",
       "      <td>NaN</td>\n",
       "      <td>NaN</td>\n",
       "    </tr>\n",
       "    <tr>\n",
       "      <th>9</th>\n",
       "      <td>Tilápia</td>\n",
       "      <td>9.05</td>\n",
       "      <td>NaN</td>\n",
       "      <td>NaN</td>\n",
       "    </tr>\n",
       "  </tbody>\n",
       "</table>\n",
       "</div>"
      ],
      "text/plain": [
       "    Produto  Preço Ideal  Preço Atual  Comprar\n",
       "0     Milho        85.32          NaN      NaN\n",
       "1      Soja       163.59          NaN      NaN\n",
       "2       Boi       282.20          NaN      NaN\n",
       "3  Petróleo       424.37          NaN      NaN\n",
       "4   Algodão       497.76          NaN      NaN\n",
       "5    Açúcar       136.23          NaN      NaN\n",
       "6      Café      1092.87          NaN      NaN\n",
       "7      Ouro       321.77          NaN      NaN\n",
       "8     Trigo      1549.11          NaN      NaN\n",
       "9   Tilápia         9.05          NaN      NaN"
      ]
     },
     "execution_count": 12,
     "metadata": {},
     "output_type": "execute_result"
    }
   ],
   "source": [
    "tabela = pd.read_excel('commodities.xlsx')\n",
    "tabela"
   ]
  },
  {
   "cell_type": "code",
   "execution_count": 13,
   "metadata": {},
   "outputs": [
    {
     "data": {
      "text/plain": [
       "'57,43'"
      ]
     },
     "execution_count": 13,
     "metadata": {},
     "output_type": "execute_result"
    }
   ],
   "source": [
    "# Acessar o site melhor câmbio https://www.melhorcambio.com/\n",
    "\n",
    "navegador.get('https://www.melhorcambio.com/milho-hoje')\n",
    "\n",
    "# pegar a cotação e converter em número\n",
    "cotacao = navegador.find_element('xpath', '//*[@id=\"comercial\"]').get_attribute('value')\n",
    "cotacao = cotacao.replace(\".\", \"\").replace(\",\", \".\")\n",
    "cotacao = float(cotacao)\n",
    "\n",
    "## Preencher o preço atual na planilha\n",
    "tabela.loc[0, 'Preco Atual'] = cotacao"
   ]
  },
  {
   "cell_type": "code",
   "execution_count": null,
   "metadata": {},
   "outputs": [],
   "source": [
    "#01:15:53"
   ]
  }
 ],
 "metadata": {
  "kernelspec": {
   "display_name": "Python 3",
   "language": "python",
   "name": "python3"
  },
  "language_info": {
   "codemirror_mode": {
    "name": "ipython",
    "version": 3
   },
   "file_extension": ".py",
   "mimetype": "text/x-python",
   "name": "python",
   "nbconvert_exporter": "python",
   "pygments_lexer": "ipython3",
   "version": "3.8.3"
  }
 },
 "nbformat": 4,
 "nbformat_minor": 4
}
